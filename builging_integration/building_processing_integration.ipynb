{
 "cells": [
  {
   "cell_type": "code",
   "execution_count": 1,
   "metadata": {},
   "outputs": [],
   "source": [
    "import arcpy\n",
    "import pandas as pd\n",
    "import os"
   ]
  },
  {
   "cell_type": "code",
   "execution_count": 2,
   "metadata": {},
   "outputs": [],
   "source": [
    "#function to create a pandas df from feature class\n",
    "def fcToPandasDF(fcobj, aAttributes):\n",
    "    return (pd.DataFrame( arcpy.da.FeatureClassToNumPyArray(in_table = fcobj, field_names = aAttributes,  skip_nulls = False, null_value = -99999)))"
   ]
  },
  {
   "cell_type": "code",
   "execution_count": 3,
   "metadata": {},
   "outputs": [],
   "source": [
    "#environment configuration\n",
    "arcpy.env.workspace = r\"D:\\ONU\\Processing\\results_integration_updated.gdb\"\n",
    "arcpy.env.outputCoordinateSystem = arcpy.SpatialReference(\"NAD 1927 UTM Zone 18N\")\n",
    "arcpy.env.overwriteOutput = True\n",
    "arcpy.env.addOutputsToMap = False"
   ]
  },
  {
   "cell_type": "code",
   "execution_count": 4,
   "metadata": {},
   "outputs": [],
   "source": [
    "#original building data\n",
    "buildings_ms = r\"D:\\ONU\\Processing\\HTI_Modeling_Pop_Inputs.gdb\\MS_FPrints\"\n",
    "buildings_hotosm = r\"D:\\ONU\\Processing\\HTI_Modeling_Pop_Inputs.gdb\\Hotosm_buildings\"\n",
    "admin_3 = r\"D:\\ONU\\Processing\\HTI_Modeling_Pop_Inputs.gdb\\adm3_cnigs_ocha\"\n",
    "GDB_outputs = r\"D:\\ONU\\Processing\\results_integration_updated.gdb\""
   ]
  },
  {
   "cell_type": "code",
   "execution_count": 5,
   "metadata": {},
   "outputs": [
    {
     "data": {
      "text/html": [
       "<h2>Output</h2>D:\\ONU\\Processing\\results_integration_updated.gdb\\ms_hti_fprint_in_admin_v2_multi<h2>Messages</h2>Start Time: Friday, November 25, 2022 8:49:33 PM<br/>Succeeded at Friday, November 25, 2022 8:52:21 PM (Elapsed Time: 2 minutes 47 seconds)<br/><style>.rendered_html td, .rendered_html th {text-align: left;}.rendered_html tbody {border: 1px solid black;}</style>"
      ],
      "text/plain": [
       "<Result 'D:\\\\ONU\\\\Processing\\\\results_integration_updated.gdb\\\\ms_hti_fprint_in_admin_v2_multi'>"
      ]
     },
     "execution_count": 5,
     "metadata": {},
     "output_type": "execute_result"
    }
   ],
   "source": [
    "#selecting only buildings ms within admin3 borders\n",
    "lyr_ms_ori = \"lyr_ms_ori\"\n",
    "arcpy.management.MakeFeatureLayer(in_features=buildings_ms, out_layer=lyr_ms_ori, where_clause=\"\")\n",
    "\n",
    "lyr_admin3 = \"lyr_admin3\"\n",
    "arcpy.management.MakeFeatureLayer(in_features=admin_3, out_layer=lyr_admin3, where_clause=\"\")\n",
    "\n",
    "selected_buildings_ms_ori = arcpy.management.SelectLayerByLocation(in_layer=[lyr_ms_ori], overlap_type=\"INTERSECT\", select_features=lyr_admin3, search_distance=\"\", selection_type=\"NEW_SELECTION\", invert_spatial_relationship=\"\")\n",
    "\n",
    "buildings_to_include = os.path.join(GDB_outputs, \"ms_hti_fprint_in_admin_v2\")\n",
    "arcpy.management.CopyFeatures(in_features=selected_buildings_ms_ori, out_feature_class=buildings_to_include)\n",
    "\n",
    "buildings_to_include_multi = os.path.join(GDB_outputs, \"ms_hti_fprint_in_admin_v2_multi\")\n",
    "arcpy.management.MultipartToSinglepart(buildings_to_include, buildings_to_include_multi)"
   ]
  },
  {
   "cell_type": "code",
   "execution_count": 6,
   "metadata": {},
   "outputs": [
    {
     "data": {
      "text/html": [
       "<h2>Output</h2>D:\\ONU\\Processing\\results_integration_updated.gdb\\hotosm_hti_fprint_in_admin_v2_multi<h2>Messages</h2>Start Time: Friday, November 25, 2022 9:05:54 PM<br/>Succeeded at Friday, November 25, 2022 9:09:43 PM (Elapsed Time: 3 minutes 48 seconds)<br/><style>.rendered_html td, .rendered_html th {text-align: left;}.rendered_html tbody {border: 1px solid black;}</style>"
      ],
      "text/plain": [
       "<Result 'D:\\\\ONU\\\\Processing\\\\results_integration_updated.gdb\\\\hotosm_hti_fprint_in_admin_v2_multi'>"
      ]
     },
     "execution_count": 6,
     "metadata": {},
     "output_type": "execute_result"
    }
   ],
   "source": [
    "#selecting only buildings hotosm within admin3 borders\n",
    "lyr_hotosm_ori = \"lyr_hotosm_ori\"\n",
    "arcpy.management.MakeFeatureLayer(in_features=buildings_hotosm, out_layer=lyr_hotosm_ori, where_clause=\"\")\n",
    "\n",
    "lyr_admin3 = \"lyr_admin3\"\n",
    "arcpy.management.MakeFeatureLayer(in_features=admin_3, out_layer=lyr_admin3, where_clause=\"\")\n",
    "\n",
    "selected_buildings_hotosm_ori = arcpy.management.SelectLayerByLocation(in_layer=[lyr_hotosm_ori], overlap_type=\"INTERSECT\", select_features=lyr_admin3, search_distance=\"\", selection_type=\"NEW_SELECTION\", invert_spatial_relationship=\"\")\n",
    "\n",
    "buildings_to_include_hotosm = os.path.join(GDB_outputs, \"hotosm_hti_fprint_in_admin_v2\")\n",
    "arcpy.management.CopyFeatures(in_features=selected_buildings_hotosm_ori, out_feature_class=buildings_to_include_hotosm)\n",
    "\n",
    "buildings_to_include_hotosm_multi = os.path.join(GDB_outputs, \"hotosm_hti_fprint_in_admin_v2_multi\")\n",
    "arcpy.management.MultipartToSinglepart(buildings_to_include_hotosm, buildings_to_include_hotosm_multi)"
   ]
  },
  {
   "cell_type": "code",
   "execution_count": 7,
   "metadata": {},
   "outputs": [
    {
     "data": {
      "text/plain": [
       "'D:\\\\ONU\\\\Processing\\\\results_integration_updated.gdb\\\\ms_hti_fprint_in_admin_v2'"
      ]
     },
     "execution_count": 7,
     "metadata": {},
     "output_type": "execute_result"
    }
   ],
   "source": [
    "buildings_ms_processed = buildings_to_include\n",
    "buildings_ms_processed"
   ]
  },
  {
   "cell_type": "code",
   "execution_count": 8,
   "metadata": {},
   "outputs": [
    {
     "data": {
      "text/html": [
       "<h2>Output</h2>D:\\ONU\\Processing\\results_integration_updated.gdb\\buff_general_bms<h2>Messages</h2>Start Time: Friday, November 25, 2022 9:11:06 PM<br/>Succeeded at Friday, November 25, 2022 9:24:07 PM (Elapsed Time: 13 minutes 0 seconds)<br/><style>.rendered_html td, .rendered_html th {text-align: left;}.rendered_html tbody {border: 1px solid black;}</style>"
      ],
      "text/plain": [
       "<Result 'D:\\\\ONU\\\\Processing\\\\results_integration_updated.gdb\\\\buff_general_bms'>"
      ]
     },
     "execution_count": 8,
     "metadata": {},
     "output_type": "execute_result"
    }
   ],
   "source": [
    "buff_general_ms_5m = os.path.join(GDB_outputs, \"buff_general_bms\")\n",
    "arcpy.analysis.Buffer(in_features=buildings_ms_processed, out_feature_class=buff_general_ms_5m, buffer_distance_or_field=\"5 Meters\", line_side=\"FULL\", line_end_type=\"ROUND\")"
   ]
  },
  {
   "cell_type": "code",
   "execution_count": 10,
   "metadata": {},
   "outputs": [
    {
     "data": {
      "text/plain": [
       "'D:\\\\ONU\\\\Processing\\\\results_integration_updated.gdb\\\\hotosm_hti_fprint_in_admin_v2_multi'"
      ]
     },
     "execution_count": 10,
     "metadata": {},
     "output_type": "execute_result"
    }
   ],
   "source": [
    "buildings_hotosm_processed = buildings_to_include_hotosm_multi\n",
    "buildings_hotosm_processed"
   ]
  },
  {
   "cell_type": "code",
   "execution_count": 11,
   "metadata": {},
   "outputs": [
    {
     "data": {
      "text/html": [
       "<h2>Output</h2>D:\\ONU\\Processing\\results_integration_updated.gdb\\no_included_general_bhotosm<h2>Messages</h2>Start Time: Friday, November 25, 2022 9:44:24 PM<br/>Succeeded at Friday, November 25, 2022 9:45:27 PM (Elapsed Time: 1 minutes 2 seconds)<br/><style>.rendered_html td, .rendered_html th {text-align: left;}.rendered_html tbody {border: 1px solid black;}</style>"
      ],
      "text/plain": [
       "<Result 'D:\\\\ONU\\\\Processing\\\\results_integration_updated.gdb\\\\no_included_general_bhotosm'>"
      ]
     },
     "execution_count": 11,
     "metadata": {},
     "output_type": "execute_result"
    }
   ],
   "source": [
    "#managing entire country info\n",
    "lyr_hotsom = \"adm3_hotosm_b\"\n",
    "arcpy.management.MakeFeatureLayer(in_features=buildings_hotosm_processed, out_layer=lyr_hotsom, where_clause=\"\")\n",
    "\n",
    "lyr_ms_buff = \"buff_ms_b\"\n",
    "arcpy.management.MakeFeatureLayer(in_features=buff_general_ms_5m, out_layer=lyr_ms_buff, where_clause=\"\")\n",
    "\n",
    "selected_buildings_hotosm = arcpy.management.SelectLayerByLocation(in_layer=[lyr_hotsom], overlap_type=\"INTERSECT\", select_features=lyr_ms_buff, search_distance=\"\", selection_type=\"NEW_SELECTION\", invert_spatial_relationship=\"INVERT\")\n",
    "\n",
    "buildings_no_included = os.path.join(GDB_outputs, \"no_included_general_bhotosm\")\n",
    "arcpy.management.CopyFeatures(in_features=selected_buildings_hotosm, out_feature_class=buildings_no_included)"
   ]
  },
  {
   "cell_type": "code",
   "execution_count": 12,
   "metadata": {},
   "outputs": [
    {
     "data": {
      "text/html": [
       "<h2>Output</h2>D:\\ONU\\Processing\\results_integration_updated.gdb\\merge_general_buildings_ms_osm<h2>Messages</h2>Start Time: Friday, November 25, 2022 9:53:08 PM<br/>Succeeded at Friday, November 25, 2022 9:55:36 PM (Elapsed Time: 2 minutes 27 seconds)<br/><style>.rendered_html td, .rendered_html th {text-align: left;}.rendered_html tbody {border: 1px solid black;}</style>"
      ],
      "text/plain": [
       "<Result 'D:\\\\ONU\\\\Processing\\\\results_integration_updated.gdb\\\\merge_general_buildings_ms_osm'>"
      ]
     },
     "execution_count": 12,
     "metadata": {},
     "output_type": "execute_result"
    }
   ],
   "source": [
    "#merging ms and hotosm info\n",
    "\n",
    "merge_general_ms_hotosm = os.path.join(GDB_outputs, \"merge_general_buildings_ms_osm\")\n",
    "arcpy.management.Merge([buildings_ms_processed, buildings_no_included], merge_general_ms_hotosm, \"\",'ADD_SOURCE_INFO')"
   ]
  },
  {
   "cell_type": "code",
   "execution_count": 13,
   "metadata": {},
   "outputs": [
    {
     "data": {
      "text/html": [
       "<h2>Output</h2>D:\\ONU\\Processing\\results_integration_updated.gdb\\buff_merged_ms_hotosm_5m<h2>Messages</h2>Start Time: Friday, November 25, 2022 10:30:29 PM<br/>Succeeded at Friday, November 25, 2022 10:44:06 PM (Elapsed Time: 13 minutes 37 seconds)<br/><style>.rendered_html td, .rendered_html th {text-align: left;}.rendered_html tbody {border: 1px solid black;}</style>"
      ],
      "text/plain": [
       "<Result 'D:\\\\ONU\\\\Processing\\\\results_integration_updated.gdb\\\\buff_merged_ms_hotosm_5m'>"
      ]
     },
     "execution_count": 13,
     "metadata": {},
     "output_type": "execute_result"
    }
   ],
   "source": [
    "#creating buffer 5m to the previous merged layer\n",
    "\n",
    "buff_merged_ms_hotosm_5m = os.path.join(GDB_outputs, \"buff_merged_ms_hotosm_5m\")\n",
    "arcpy.analysis.Buffer(in_features=merge_general_ms_hotosm, out_feature_class=buff_merged_ms_hotosm_5m, buffer_distance_or_field=\"5 Meters\", line_side=\"FULL\", line_end_type=\"ROUND\", dissolve_option=\"NONE\", dissolve_field=[], method=\"PLANAR\")"
   ]
  },
  {
   "cell_type": "code",
   "execution_count": 14,
   "metadata": {},
   "outputs": [
    {
     "data": {
      "text/html": [
       "<h2>Output</h2>D:\\ONU\\Processing\\results_integration_updated.gdb\\no_included_general_survey_points<h2>Messages</h2>Start Time: Friday, November 25, 2022 10:46:57 PM<br/>Succeeded at Friday, November 25, 2022 10:47:33 PM (Elapsed Time: 36.28 seconds)<br/><style>.rendered_html td, .rendered_html th {text-align: left;}.rendered_html tbody {border: 1px solid black;}</style>"
      ],
      "text/plain": [
       "<Result 'D:\\\\ONU\\\\Processing\\\\results_integration_updated.gdb\\\\no_included_general_survey_points'>"
      ]
     },
     "execution_count": 14,
     "metadata": {},
     "output_type": "execute_result"
    }
   ],
   "source": [
    "#selecting survey points to include\n",
    "\n",
    "survey_points_hhloc = r\"D:\\ONU\\Processing\\HTI_Modeling_Pop_Inputs.gdb\\main_hhloc_clean_26718\"\n",
    "\n",
    "lyr_survey_points = \"survey_points\"\n",
    "arcpy.management.MakeFeatureLayer(in_features=survey_points_hhloc, out_layer=lyr_survey_points, where_clause=\"\")\n",
    "\n",
    "lyr_ms_hotosm_buff = \"buff_ms_hotosm_b\"\n",
    "arcpy.management.MakeFeatureLayer(in_features=buff_merged_ms_hotosm_5m, out_layer=lyr_ms_hotosm_buff, where_clause=\"\")\n",
    "\n",
    "selected_buildings_survey = arcpy.management.SelectLayerByLocation(in_layer=[lyr_survey_points], overlap_type=\"INTERSECT\", select_features=lyr_ms_hotosm_buff, search_distance=\"\", selection_type=\"NEW_SELECTION\", invert_spatial_relationship=\"INVERT\")\n",
    "\n",
    "points_survey_no_included = os.path.join(GDB_outputs, \"no_included_general_survey_points\")\n",
    "arcpy.management.CopyFeatures(in_features=selected_buildings_survey, out_feature_class=points_survey_no_included)\n"
   ]
  },
  {
   "cell_type": "code",
   "execution_count": 15,
   "metadata": {},
   "outputs": [
    {
     "data": {
      "text/html": [
       "<h2>Output</h2>D:\\ONU\\Processing\\results_integration_updated.gdb\\points_general_ms_hotosm<h2>Messages</h2>Start Time: Friday, November 25, 2022 10:56:48 PM<br/>Succeeded at Friday, November 25, 2022 10:58:51 PM (Elapsed Time: 2 minutes 3 seconds)<br/><style>.rendered_html td, .rendered_html th {text-align: left;}.rendered_html tbody {border: 1px solid black;}</style>"
      ],
      "text/plain": [
       "<Result 'D:\\\\ONU\\\\Processing\\\\results_integration_updated.gdb\\\\points_general_ms_hotosm'>"
      ]
     },
     "execution_count": 15,
     "metadata": {},
     "output_type": "execute_result"
    }
   ],
   "source": [
    "#converting merged builgings to points\n",
    "points_general_ms_hotosm = os.path.join(GDB_outputs, \"points_general_ms_hotosm\")\n",
    "arcpy.management.FeatureToPoint(merge_general_ms_hotosm, points_general_ms_hotosm, \"INSIDE\")"
   ]
  },
  {
   "cell_type": "code",
   "execution_count": 16,
   "metadata": {},
   "outputs": [
    {
     "data": {
      "text/html": [
       "<h2>Output</h2>D:\\ONU\\Processing\\results_integration_updated.gdb\\merge_general_ms_hotosm_survey<h2>Messages</h2>Start Time: Friday, November 25, 2022 11:02:15 PM<br/>Succeeded at Friday, November 25, 2022 11:04:54 PM (Elapsed Time: 2 minutes 38 seconds)<br/><style>.rendered_html td, .rendered_html th {text-align: left;}.rendered_html tbody {border: 1px solid black;}</style>"
      ],
      "text/plain": [
       "<Result 'D:\\\\ONU\\\\Processing\\\\results_integration_updated.gdb\\\\merge_general_ms_hotosm_survey'>"
      ]
     },
     "execution_count": 16,
     "metadata": {},
     "output_type": "execute_result"
    }
   ],
   "source": [
    "#merging points ms-osm with survey points\n",
    "\n",
    "merge_general_ms_hotosm_survey = os.path.join(GDB_outputs, \"merge_general_ms_hotosm_survey\")\n",
    "arcpy.management.Merge([points_general_ms_hotosm, points_survey_no_included], merge_general_ms_hotosm_survey, \"\",'ADD_SOURCE_INFO')"
   ]
  },
  {
   "cell_type": "code",
   "execution_count": 17,
   "metadata": {},
   "outputs": [
    {
     "data": {
      "text/html": [
       "<h2>Output</h2>D:\\ONU\\Processing\\results_integration_updated.gdb\\final_to_include_total_no_water<h2>Messages</h2>Start Time: Friday, November 25, 2022 11:16:27 PM<br/>Succeeded at Friday, November 25, 2022 11:18:55 PM (Elapsed Time: 2 minutes 27 seconds)<br/><style>.rendered_html td, .rendered_html th {text-align: left;}.rendered_html tbody {border: 1px solid black;}</style>"
      ],
      "text/plain": [
       "<Result 'D:\\\\ONU\\\\Processing\\\\results_integration_updated.gdb\\\\final_to_include_total_no_water'>"
      ]
     },
     "execution_count": 17,
     "metadata": {},
     "output_type": "execute_result"
    }
   ],
   "source": [
    "#excluding points ms-osm-survey that are whithin water bodies\n",
    "\n",
    "water_b = r\"D:\\ONU\\Processing\\HTI_Modeling_Pop_Inputs.gdb\\osm_water_bodies\"\n",
    "\n",
    "lyr_ms_osm_survey_p = \"lyr_ms_osm_survey_p\"\n",
    "arcpy.management.MakeFeatureLayer(in_features=merge_general_ms_hotosm_survey, out_layer=lyr_ms_osm_survey_p, where_clause=\"\")\n",
    "\n",
    "lyr_water = \"lyr_water_b\"\n",
    "arcpy.management.MakeFeatureLayer(in_features=water_b, out_layer=lyr_water, where_clause=\"\")\n",
    "\n",
    "selected_buildings_total = arcpy.management.SelectLayerByLocation(in_layer=[lyr_ms_osm_survey_p], overlap_type=\"INTERSECT\", select_features=lyr_water, search_distance=\"\", selection_type=\"NEW_SELECTION\", invert_spatial_relationship=\"INVERT\")\n",
    "\n",
    "buildings_no_included_total = os.path.join(GDB_outputs, \"final_to_include_total_no_water\")\n",
    "arcpy.management.CopyFeatures(in_features=selected_buildings_total, out_feature_class=buildings_no_included_total)"
   ]
  },
  {
   "cell_type": "code",
   "execution_count": 6,
   "metadata": {},
   "outputs": [
    {
     "data": {
      "text/html": [
       "<h2>Output</h2>D:\\ONU\\Processing\\results_integration_updated.gdb\\total_points_ms_hotosm_survey_adm3<h2>Messages</h2>Start Time: Friday, November 25, 2022 11:34:49 PM<br/>Succeeded at Friday, November 25, 2022 11:37:08 PM (Elapsed Time: 2 minutes 19 seconds)<br/><style>.rendered_html td, .rendered_html th {text-align: left;}.rendered_html tbody {border: 1px solid black;}</style>"
      ],
      "text/plain": [
       "<Result 'D:\\\\ONU\\\\Processing\\\\results_integration_updated.gdb\\\\total_points_ms_hotosm_survey_adm3'>"
      ]
     },
     "execution_count": 6,
     "metadata": {},
     "output_type": "execute_result"
    }
   ],
   "source": [
    "################\n",
    "#generating raster from integrated points p1\n",
    "buildings_no_included_total = os.path.join(GDB_outputs, \"final_to_include_total_no_water\")\n",
    "lyr_merge_general_ms_hotosm_survey = \"lyr_merge_general_ms_hotosm_survey\"\n",
    "arcpy.management.MakeFeatureLayer(in_features=buildings_no_included_total, out_layer=lyr_merge_general_ms_hotosm_survey, where_clause=\"\")\n",
    "\n",
    "lyr_admin_3 = \"lyr_admin_3\"\n",
    "arcpy.management.MakeFeatureLayer(in_features=admin_3, out_layer=lyr_admin_3, where_clause=\"\")\n",
    "\n",
    "selected_buildings_adm3 = arcpy.management.SelectLayerByLocation(in_layer=[lyr_merge_general_ms_hotosm_survey], overlap_type=\"INTERSECT\", select_features=lyr_admin_3, search_distance=\"\", selection_type=\"NEW_SELECTION\")\n",
    "\n",
    "total_points_ms_hotosm_survey_adm3 = os.path.join(GDB_outputs, \"total_points_ms_hotosm_survey_adm3\")\n",
    "arcpy.management.CopyFeatures(in_features=selected_buildings_adm3, out_feature_class=total_points_ms_hotosm_survey_adm3)"
   ]
  },
  {
   "cell_type": "code",
   "execution_count": 7,
   "metadata": {},
   "outputs": [
    {
     "data": {
      "text/html": [
       "<h2>Output</h2>D:\\ONU\\Processing\\results_integration_updated.gdb\\raster_ms_hotosm_survey<h2>Messages</h2>Start Time: Friday, November 25, 2022 11:38:04 PM<br/>Succeeded at Friday, November 25, 2022 11:38:12 PM (Elapsed Time: 7.38 seconds)<br/><style>.rendered_html td, .rendered_html th {text-align: left;}.rendered_html tbody {border: 1px solid black;}</style>"
      ],
      "text/plain": [
       "<Result 'D:\\\\ONU\\\\Processing\\\\results_integration_updated.gdb\\\\raster_ms_hotosm_survey'>"
      ]
     },
     "execution_count": 7,
     "metadata": {},
     "output_type": "execute_result"
    }
   ],
   "source": [
    "#generating raster from integrated points p2\n",
    "\n",
    "raster_points_ms_hotosm_survey = os.path.join(GDB_outputs, \"raster_ms_hotosm_survey\")\n",
    "arcpy.conversion.PointToRaster(total_points_ms_hotosm_survey_adm3, \"OBJECTID\", raster_points_ms_hotosm_survey, \"COUNT\", \"NONE\", 100, \"BUILD\")"
   ]
  },
  {
   "cell_type": "code",
   "execution_count": 9,
   "metadata": {},
   "outputs": [
    {
     "data": {
      "text/html": [
       "<h2>Output</h2>D:\\ONU\\Processing\\results_integration_updated.gdb\\minbbox_hti_adm3<h2>Messages</h2>Start Time: Friday, November 25, 2022 11:44:34 PM<br/>Succeeded at Friday, November 25, 2022 11:44:34 PM (Elapsed Time: 0.11 seconds)<br/><style>.rendered_html td, .rendered_html th {text-align: left;}.rendered_html tbody {border: 1px solid black;}</style>"
      ],
      "text/plain": [
       "<Result 'D:\\\\ONU\\\\Processing\\\\results_integration_updated.gdb\\\\minbbox_hti_adm3'>"
      ]
     },
     "execution_count": 9,
     "metadata": {},
     "output_type": "execute_result"
    }
   ],
   "source": [
    "#creating new raster layer wih 0 value p1\n",
    "\n",
    "diss_hti_adm3 = r\"D:\\ONU\\Processing\\HTI_Modeling_Pop_Inputs.gdb\\diss_adm3_cnigs_ocha\"\n",
    "minbbox_hti_adm3 = os.path.join(GDB_outputs, \"minbbox_hti_adm3\")\n",
    "arcpy.management.MinimumBoundingGeometry(diss_hti_adm3, minbbox_hti_adm3, \"ENVELOPE\", \"NONE\", None, \"NO_MBG_FIELDS\")\n",
    "\n",
    "arcpy.management.AddField(minbbox_hti_adm3,\"value\", 'LONG')\n",
    "arcpy.management.CalculateField(minbbox_hti_adm3, \"value\", 0, expression_type=\"PYTHON3\", code_block=\"\", field_type=\"LONG\")"
   ]
  },
  {
   "cell_type": "code",
   "execution_count": 10,
   "metadata": {},
   "outputs": [
    {
     "data": {
      "text/html": [
       "<h2>Output</h2>D:\\ONU\\Processing\\results_integration_updated.gdb\\raster_zero_envelope<h2>Messages</h2>Start Time: Friday, November 25, 2022 11:46:22 PM<br/>Succeeded at Friday, November 25, 2022 11:46:23 PM (Elapsed Time: 1.38 seconds)<br/><style>.rendered_html td, .rendered_html th {text-align: left;}.rendered_html tbody {border: 1px solid black;}</style>"
      ],
      "text/plain": [
       "<Result 'D:\\\\ONU\\\\Processing\\\\results_integration_updated.gdb\\\\raster_zero_envelope'>"
      ]
     },
     "execution_count": 10,
     "metadata": {},
     "output_type": "execute_result"
    }
   ],
   "source": [
    "#creating new raster layer wih 0 value p2\n",
    "\n",
    "raster_zero_envelope = os.path.join(GDB_outputs, \"raster_zero_envelope\")\n",
    "arcpy.conversion.FeatureToRaster(minbbox_hti_adm3, \"value\", raster_zero_envelope, 100)"
   ]
  },
  {
   "cell_type": "code",
   "execution_count": 11,
   "metadata": {},
   "outputs": [],
   "source": [
    "#applying map algebra\n",
    "\n",
    "raster_sum_total_envelope = os.path.join(GDB_outputs, \"raster_sum_total_envelope\")\n",
    "output_raster = arcpy.ia.RasterCalculator([raster_points_ms_hotosm_survey, raster_zero_envelope],\n",
    "                                         [\"x\", \"y\"], \"x+y\")\n",
    "output_raster.save(raster_sum_total_envelope)"
   ]
  },
  {
   "cell_type": "code",
   "execution_count": 12,
   "metadata": {},
   "outputs": [],
   "source": [
    "raster_sum_total_envelope_2 = os.path.join(GDB_outputs, \"raster_sum_total_envelope_2\")\n",
    "output_raster = arcpy.ia.RasterCalculator([raster_sum_total_envelope],\n",
    "                                         [\"x\"], \"Con(IsNull(x), 0, x)\")\n",
    "output_raster.save(raster_sum_total_envelope_2)"
   ]
  },
  {
   "cell_type": "code",
   "execution_count": 7,
   "metadata": {},
   "outputs": [],
   "source": [
    "#cropping final raster\n",
    "\n",
    "final_raster_buildings_cropped_hti = os.path.join(GDB_outputs, \"final_raster_buildings_cropped_hti_\")\n",
    "raster_sum_total_envelope_2 = os.path.join(GDB_outputs, \"raster_sum_total_envelope_2\")\n",
    "buff_diss_admin3 = r\"D:\\ONU\\Processing\\HTI_Modeling_Pop_Inputs.gdb\\diss_adm3_cnigs_ocha_buff_100m\"\n",
    "\n",
    "out_raster = arcpy.sa.ExtractByMask(raster_sum_total_envelope_2, buff_diss_admin3)\n",
    "out_raster.save(final_raster_buildings_cropped_hti)"
   ]
  },
  {
   "cell_type": "code",
   "execution_count": null,
   "metadata": {},
   "outputs": [],
   "source": []
  },
  {
   "cell_type": "code",
   "execution_count": null,
   "metadata": {},
   "outputs": [],
   "source": [
    "\n",
    "#function to calculate the builgings from osm to include in the ms dataset considering 5m buffer\n",
    "#agregattion by admin level 3\n",
    "\n",
    "def calculate_to_include_buildings(level3_df, buff_param_dist):\n",
    "    \n",
    "    adm3_ind = level3_df['OBJECTID'].tolist()\n",
    "\n",
    "    for i in range(len(adm3_ind)):\n",
    "\n",
    "        try:\n",
    "\n",
    "            print(\"Processing \" + str(adm3_ind[i]) + \" ...\")\n",
    "\n",
    "            adm3_selected = os.path.join(GDB_outputs, \"adm3_selected_\" + str(adm3_ind[i]))\n",
    "            arcpy.analysis.Select(admin_3, adm3_selected, \"OBJECTID = \" + str(adm3_ind[i]))\n",
    "\n",
    "            inter_adm3_sel_ms = os.path.join(GDB_outputs, \"inter_adm3_selected_bms\" + str(adm3_ind[i]))\n",
    "            arcpy.analysis.Intersect(in_features=[adm3_selected, buildings_ms_processed], out_feature_class=inter_adm3_sel_ms, join_attributes=\"ALL\", cluster_tolerance=\"\", output_type=\"INPUT\")\n",
    "\n",
    "            inter_adm3_sel_hotosm = os.path.join(GDB_outputs, \"inter_adm3_selected_bhotosm\" + str(adm3_ind[i]))\n",
    "            arcpy.analysis.Intersect(in_features=[adm3_selected, buildings_hotosm_processed], out_feature_class=inter_adm3_sel_hotosm, join_attributes=\"ALL\", cluster_tolerance=\"\", output_type=\"INPUT\")\n",
    "\n",
    "            buff_inter_adm3_sel_ms = os.path.join(GDB_outputs, \"buff_inter_adm3_selected_bms\" + str(adm3_ind[i]))\n",
    "            arcpy.analysis.Buffer(in_features=inter_adm3_sel_ms, out_feature_class=buff_inter_adm3_sel_ms, buffer_distance_or_field=buff_param_dist, line_side=\"FULL\", line_end_type=\"ROUND\", dissolve_option=\"NONE\", dissolve_field=[], method=\"PLANAR\")\n",
    "\n",
    "            lyr_hotsom = \"adm3_sel_hotosm_b\"\n",
    "            arcpy.management.MakeFeatureLayer(in_features=inter_adm3_sel_hotosm, out_layer=lyr_hotsom, where_clause=\"\")\n",
    "\n",
    "            lyr_ms_buff = \"buff_adm3_sel_ms_b\"\n",
    "            arcpy.management.MakeFeatureLayer(in_features=buff_inter_adm3_sel_ms, out_layer=lyr_ms_buff, where_clause=\"\")\n",
    "\n",
    "            selected_buildings_hotosm = arcpy.management.SelectLayerByLocation(in_layer=[lyr_hotsom], overlap_type=\"INTERSECT\", select_features=lyr_ms_buff, search_distance=\"\", selection_type=\"NEW_SELECTION\", invert_spatial_relationship=\"INVERT\")\n",
    "\n",
    "            buildings_no_included = os.path.join(GDB_outputs, \"no_included_selected_bhotosm\" + str(adm3_ind[i]))\n",
    "            arcpy.management.CopyFeatures(in_features=selected_buildings_hotosm, out_feature_class=buildings_no_included)\n",
    "\n",
    "            print(\"Done...\")\n",
    "\n",
    "        except:\n",
    "            print(\"Error in adm3... \" + str(adm3_ind[i]) + \" ...\")\n",
    "    "
   ]
  }
 ],
 "metadata": {
  "kernelspec": {
   "display_name": "ArcGISPro",
   "language": "Python",
   "name": "python3"
  },
  "language_info": {
   "file_extension": ".py",
   "name": "python",
   "version": "3"
  }
 },
 "nbformat": 4,
 "nbformat_minor": 2
}
